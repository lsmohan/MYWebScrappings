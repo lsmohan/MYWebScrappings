{
 "cells": [
  {
   "cell_type": "code",
   "execution_count": 1,
   "metadata": {
    "collapsed": true,
    "deletable": true,
    "editable": true
   },
   "outputs": [],
   "source": [
    "from bs4 import BeautifulSoup\n",
    "from io import open"
   ]
  },
  {
   "cell_type": "code",
   "execution_count": 2,
   "metadata": {
    "collapsed": false,
    "deletable": true,
    "editable": true
   },
   "outputs": [],
   "source": [
    "sahas = open('sahasranamam.html', 'w', encoding=\"utf-8\")\n",
    "\n",
    "pre_html = \"\"\"\n",
    "<!DOCTYPE html>\n",
    "<meta http-equiv=\"Content-Type\" content=\"text/html; charset=utf-8\" />\n",
    "<html>\n",
    "<head>\n",
    "<title>Vishnu Sahasranama with Meanings</title>\n",
    "<link rel=\"stylesheet\" type=\"text/css\" href=\"vishnu.css\">\n",
    "<script src=\"jquery.js\">\n",
    "$(document).ready(function(){\n",
    "\t$(\".shiva\").hide();\n",
    "});\n",
    "</script>\n",
    "</head>\n",
    "<body>\n",
    "\"\"\"\n",
    "\n",
    "sahas.write(pre_html)\n",
    "files = ['vishnu-sanskrit.xml', 'vishnu-krishnanda.xml', 'vishnu-shivakumar-shankara.xml', \n",
    "         'vishnu-wikipedia.xml', 'kusakratha-vishnu.xml']\n",
    "soups = [BeautifulSoup(open(f, 'r', encoding='utf-8').read(), \"lxml\") for f in files]\n",
    "classes = ['sanskrit', 'krishna', 'shiva', 'wiki', 'kusakartha']\n",
    "\n",
    "def process_shloka(j, n):\n",
    "    sloka = soups[j].find('sloka', id='%d'%n)\n",
    "    k = set(sloka.contents)\n",
    "    k.discard('\\n')\n",
    "    \n",
    "    for i in k:\n",
    "            sahas.write('<div class=\"{0}\" id=\"{1}\">\\n'.format(classes[j], n))\n",
    "            sahas.write(\"%s\\n\"%i)\n",
    "            sahas.write('</div>\\n')              "
   ]
  },
  {
   "cell_type": "code",
   "execution_count": 3,
   "metadata": {
    "collapsed": false,
    "deletable": true,
    "editable": true
   },
   "outputs": [],
   "source": [
    "def process_all_files():\n",
    "    for i in range(1, 108):\n",
    "        for j, f in enumerate(files):\n",
    "            process_shloka(j, i)"
   ]
  },
  {
   "cell_type": "code",
   "execution_count": 4,
   "metadata": {
    "collapsed": false,
    "deletable": true,
    "editable": true
   },
   "outputs": [],
   "source": [
    "process_all_files()"
   ]
  },
  {
   "cell_type": "code",
   "execution_count": 5,
   "metadata": {
    "collapsed": true,
    "deletable": true,
    "editable": true
   },
   "outputs": [],
   "source": [
    "post_html = \"\"\"\n",
    "</body></html>\n",
    "\"\"\"\n",
    "\n",
    "sahas.write(post_html)\n",
    "sahas.close()"
   ]
  },
  {
   "cell_type": "code",
   "execution_count": null,
   "metadata": {
    "collapsed": false,
    "deletable": true,
    "editable": true
   },
   "outputs": [],
   "source": []
  },
  {
   "cell_type": "code",
   "execution_count": null,
   "metadata": {
    "collapsed": true,
    "deletable": true,
    "editable": true
   },
   "outputs": [],
   "source": []
  }
 ],
 "metadata": {
  "kernelspec": {
   "display_name": "Python 3",
   "language": "python",
   "name": "python3"
  },
  "language_info": {
   "codemirror_mode": {
    "name": "ipython",
    "version": 3
   },
   "file_extension": ".py",
   "mimetype": "text/x-python",
   "name": "python",
   "nbconvert_exporter": "python",
   "pygments_lexer": "ipython3",
   "version": "3.5.2"
  }
 },
 "nbformat": 4,
 "nbformat_minor": 2
}
