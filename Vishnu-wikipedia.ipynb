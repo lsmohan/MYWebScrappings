{
 "cells": [
  {
   "cell_type": "markdown",
   "metadata": {
    "deletable": true,
    "editable": true
   },
   "source": [
    "# Vishnu Sahasranamam\n",
    "\n",
    "We intend to produce xml files for the vishnu sahasranamam app from the files of Wikipedia."
   ]
  },
  {
   "cell_type": "code",
   "execution_count": 1,
   "metadata": {
    "collapsed": false,
    "deletable": true,
    "editable": true
   },
   "outputs": [],
   "source": [
    "from bs4 import BeautifulSoup\n",
    "from urllib.request import urlopen\n",
    "import os\n",
    "\n",
    "URL = u'https://en.wikipedia.org/wiki/Vishnu_sahasranama'\n",
    "FILE = u'Vishnu-Wikipedia.html'\n",
    "\n",
    "if os.path.exists(FILE):\n",
    "    html = open(FILE, 'r', encoding=\"utf-8\").read()\n",
    "else:\n",
    "    html = urlopen(URL)\n",
    "    open(FILE, \"w\", encoding=\"utf-8\").write(html)\n",
    "\n",
    "soup = BeautifulSoup(html, \"lxml\")"
   ]
  },
  {
   "cell_type": "code",
   "execution_count": 2,
   "metadata": {
    "collapsed": true,
    "deletable": true,
    "editable": true
   },
   "outputs": [],
   "source": [
    "tables = soup.findAll('table')"
   ]
  },
  {
   "cell_type": "code",
   "execution_count": 3,
   "metadata": {
    "collapsed": false,
    "deletable": true,
    "editable": true
   },
   "outputs": [],
   "source": [
    "vishnu = tables[4]\n",
    "\n",
    "fn = open(\"shloka-number.txt\", \"r\", encoding=\"utf-8\")\n",
    "number = []\n",
    "\n",
    "for line in fn:\n",
    "    s, n = line.split()\n",
    "    number.append(n)\n",
    "number.pop(0)\n",
    "number.append('1001')"
   ]
  },
  {
   "cell_type": "code",
   "execution_count": 4,
   "metadata": {
    "collapsed": false,
    "deletable": true,
    "editable": true
   },
   "outputs": [],
   "source": [
    "def process_table(vishnu):\n",
    "    to_print = '<sloka id=\"1\">\\n<ol>\\n'\n",
    "    cur_shloka = 0\n",
    "    for i, s in enumerate(vishnu.findAll('tr')):\n",
    "        if i == 0:\n",
    "            pass\n",
    "        else:\n",
    "            to_print += u\"<li>\"\n",
    "            for j, t in enumerate(s.findAll('td')):\n",
    "                tag = t.a\n",
    "                del(tag)\n",
    "                if j == 2:\n",
    "                    to_print += str(t.text) + \": \"\n",
    "                if j == 3:\n",
    "                    to_print += str(t.text)\n",
    "            to_print += u\"</li>\\n\"\n",
    "            if int(number[cur_shloka]) < i + 2:\n",
    "                to_print += u'</ol>\\n</sloka>\\n'\n",
    "                if (i + 1 < 1000):\n",
    "                    to_print += u'\\n<sloka id=\"%s\">\\n<ol start=\"%s\">\\n' % (cur_shloka + 2, i + 1)\n",
    "                    cur_shloka += 1\n",
    "    return to_print\n",
    "\n",
    "\n"
   ]
  },
  {
   "cell_type": "code",
   "execution_count": 5,
   "metadata": {
    "collapsed": false,
    "deletable": true,
    "editable": true
   },
   "outputs": [],
   "source": [
    "txt = process_table(vishnu)"
   ]
  },
  {
   "cell_type": "code",
   "execution_count": 6,
   "metadata": {
    "collapsed": false,
    "deletable": true,
    "editable": true
   },
   "outputs": [],
   "source": [
    "fw = open('vishnu-wikipedia.xml', \"w\", encoding=\"utf-8\")\n",
    "fw.write(txt)\n",
    "fw.close()"
   ]
  },
  {
   "cell_type": "markdown",
   "metadata": {
    "deletable": true,
    "editable": true
   },
   "source": [
    "## Devanagari Vishnu Sahasranamam"
   ]
  },
  {
   "cell_type": "code",
   "execution_count": 7,
   "metadata": {
    "collapsed": false,
    "deletable": true,
    "editable": true
   },
   "outputs": [],
   "source": [
    "text = open('vishnu-sanskrit.txt', 'r', encoding=\"utf-8\").read()"
   ]
  },
  {
   "cell_type": "code",
   "execution_count": 8,
   "metadata": {
    "collapsed": false,
    "deletable": true,
    "editable": true
   },
   "outputs": [],
   "source": [
    "shlokas = text.split('\\n\\n')"
   ]
  },
  {
   "cell_type": "code",
   "execution_count": 9,
   "metadata": {
    "collapsed": false,
    "deletable": true,
    "editable": true
   },
   "outputs": [],
   "source": [
    "f = open('vishnu-sanskrit.xml', 'w', encoding='utf-8')\n",
    "\n",
    "for i, s in enumerate(shlokas):\n",
    "    top = \"\"\"\n",
    "<sloka id=\"%s\">\n",
    "%s\n",
    "</sloka>\n",
    "\n",
    "\"\"\" % (i + 1, s)\n",
    "    f.write(top)\n",
    "    \n",
    "f.close()"
   ]
  },
  {
   "cell_type": "code",
   "execution_count": null,
   "metadata": {
    "collapsed": true,
    "deletable": true,
    "editable": true
   },
   "outputs": [],
   "source": []
  }
 ],
 "metadata": {
  "anaconda-cloud": {},
  "kernelspec": {
   "display_name": "Python 3",
   "language": "python",
   "name": "python3"
  },
  "language_info": {
   "codemirror_mode": {
    "name": "ipython",
    "version": 3
   },
   "file_extension": ".py",
   "mimetype": "text/x-python",
   "name": "python",
   "nbconvert_exporter": "python",
   "pygments_lexer": "ipython3",
   "version": "3.5.2"
  }
 },
 "nbformat": 4,
 "nbformat_minor": 1
}
