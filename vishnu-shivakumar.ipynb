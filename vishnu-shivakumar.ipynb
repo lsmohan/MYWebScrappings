{
 "cells": [
  {
   "cell_type": "markdown",
   "metadata": {
    "deletable": true,
    "editable": true
   },
   "source": [
    "# Vishnu Sahasranamam: shivkumar.org\n",
    "\n",
    "Attempt to create individual meanings of the 1000 names of Vishnu from http://www.shivkumar.org/music/vishnu-sahasranamam-meanings.htm. The file that we have is very good in terms of how the various names are explained based on the Bhashya of Shankara Bhagavadpada. \n",
    "\n",
    "Our aim is to get the namas and the commentary from the file using BeautifulSoup."
   ]
  },
  {
   "cell_type": "code",
   "execution_count": 1,
   "metadata": {
    "collapsed": true,
    "deletable": true,
    "editable": true
   },
   "outputs": [],
   "source": [
    "from bs4 import BeautifulSoup, Comment\n",
    "import textwrap, re\n",
    "import os\n",
    "from io import open # 2 and 3 compatibility\n",
    "import urllib\n",
    "\n",
    "# Very useful function\n",
    "\n",
    "def remove_attrs(soup, whitelist=tuple()):\n",
    "    for tag in soup.findAll(True):\n",
    "        for attr in [attr for attr in tag.attrs if attr not in whitelist]:\n",
    "            del tag[attr]\n",
    "    return soup"
   ]
  },
  {
   "cell_type": "markdown",
   "metadata": {
    "deletable": true,
    "editable": true
   },
   "source": [
    "Download the file is it does not already exist."
   ]
  },
  {
   "cell_type": "code",
   "execution_count": 2,
   "metadata": {
    "collapsed": false,
    "deletable": true,
    "editable": true
   },
   "outputs": [],
   "source": [
    "FILE_NAME = r\"Vishnu Sahasranamam-shivkumar.org.html\"\n",
    "\n",
    "if not os.path.exists(FILE_NAME):\n",
    "    response = urllib2.urlopen('http://python.org/')\n",
    "    html = response.read()\n",
    "    f = open(FILE_NAME, 'r', encode=\"urf-8\").write(html)\n",
    "else:\n",
    "    html = open(FILE_NAME, \"r\").read()"
   ]
  },
  {
   "cell_type": "code",
   "execution_count": 3,
   "metadata": {
    "collapsed": false,
    "deletable": true,
    "editable": true
   },
   "outputs": [],
   "source": [
    "soup = BeautifulSoup(html, 'html.parser')"
   ]
  },
  {
   "cell_type": "markdown",
   "metadata": {
    "deletable": true,
    "editable": true
   },
   "source": [
    "The following may not be necassary, but at some point I did not want to see the comments"
   ]
  },
  {
   "cell_type": "code",
   "execution_count": 4,
   "metadata": {
    "collapsed": false,
    "deletable": true,
    "editable": true
   },
   "outputs": [],
   "source": [
    "comments = soup.findAll(text=lambda text:isinstance(text, Comment))\n",
    "c = [comment.extract() for comment in comments]"
   ]
  },
  {
   "cell_type": "markdown",
   "metadata": {
    "deletable": true,
    "editable": true
   },
   "source": [
    "We create some utility function to mark the 'Shloka' part of the page. This we do by ensuring that the first of all we remove all atrributes from the span part, and when the span has a style that is aligned in the ceter, we mark that in our soup `s` using a class tag"
   ]
  },
  {
   "cell_type": "code",
   "execution_count": 5,
   "metadata": {
    "collapsed": true,
    "deletable": true,
    "editable": true
   },
   "outputs": [],
   "source": [
    "def process_span(p):\n",
    "    s = remove_attrs(p)\n",
    "    if p.get('style') == r'text-align:center':\n",
    "        s['class'] = 'Shloka'\n",
    "    return s"
   ]
  },
  {
   "cell_type": "markdown",
   "metadata": {
    "deletable": true,
    "editable": true
   },
   "source": [
    "This is the main part of the extraction routine. We first create some variables we use. "
   ]
  },
  {
   "cell_type": "code",
   "execution_count": 6,
   "metadata": {
    "collapsed": false,
    "deletable": true,
    "editable": true
   },
   "outputs": [],
   "source": [
    "number_pat = re.compile(r'^([ ]?\\(?(\\d+)[\\)\\.]?)')\n",
    "sahasranams = []\n",
    "number = []\n",
    "namas = []\n",
    "NEW_PATTERN = u'NeWWeN'\n",
    "\n",
    "def process_soup(soup):\n",
    "    # Get all the paragraphs until we come to the first namam.\n",
    "    print_all = 0\n",
    "    st = \"\"\n",
    "    para = soup.findAll('p')\n",
    "    f = open('vishnu-shivkumar.txt', 'w',encoding='utf-8')\n",
    "    for i, p in enumerate(para):\n",
    "        ## The start of the commentary\n",
    "        if p.span.text == r'(1) Visvam':\n",
    "            print_all = 1\n",
    "        if print_all:\n",
    "            s = process_span(p)\n",
    "            ## Can we catch the start of a name and commentary from others.\n",
    "            if (s.b != None):\n",
    "                my_str = textwrap.fill(s.b.text).replace(u'\\xa0', ' ')\n",
    "            elif (p.strong != None):\n",
    "                my_str = textwrap.fill(p.strong.text).replace(u'\\xa0', ' ')\n",
    "            else:\n",
    "                my_str = \"\"\n",
    "            m = number_pat.search(my_str)\n",
    "            if m:\n",
    "                if my_str:\n",
    "                    nama = my_str[len(m.group(0)):]\n",
    "                    namas.append(nama.strip())\n",
    "                    sahasranams.append(my_str)\n",
    "                    number.append(m.group(2))\n",
    "                    f.write(NEW_PATTERN)\n",
    "                    st += NEW_PATTERN\n",
    "            ## This is the end of the commentary\n",
    "            if s.text.startswith('Sree Sarva'):\n",
    "                print_all = 0\n",
    "            if s.get('class', None) == 'Shloka':\n",
    "                pass\n",
    "            elif s != \"\":\n",
    "                f.write(\"%s\"%s.text)\n",
    "                st += \"%s\"%s.text\n",
    "    return st\n"
   ]
  },
  {
   "cell_type": "code",
   "execution_count": 7,
   "metadata": {
    "collapsed": false,
    "deletable": true,
    "editable": true,
    "scrolled": false
   },
   "outputs": [],
   "source": [
    "commentary_str = process_soup(soup)"
   ]
  },
  {
   "cell_type": "markdown",
   "metadata": {
    "collapsed": true,
    "deletable": true,
    "editable": true
   },
   "source": [
    "## Corrections\n",
    "\n",
    "This document had some names (from position 780 to 804 seem to be repeated. We delete them."
   ]
  },
  {
   "cell_type": "code",
   "execution_count": 8,
   "metadata": {
    "collapsed": false,
    "deletable": true,
    "editable": true
   },
   "outputs": [],
   "source": [
    "START_NO = 779\n",
    "END_NO = 803\n",
    "\n",
    "del number[START_NO:END_NO]\n",
    "del sahasranams[START_NO:END_NO]\n",
    "\n",
    "commentary = commentary_str.split('NeWWeN')\n",
    "del commentary[0]\n",
    "del commentary[START_NO:END_NO]"
   ]
  },
  {
   "cell_type": "code",
   "execution_count": 9,
   "metadata": {
    "collapsed": false,
    "deletable": true,
    "editable": true
   },
   "outputs": [
    {
     "name": "stdout",
     "output_type": "stream",
     "text": [
      "954\n"
     ]
    }
   ],
   "source": [
    "## Even after this there are only 999 names. Checking what is missing\n",
    "\n",
    "che = [i + 1 - int(number[i]) for i in range(999)]\n",
    "miss = che.index(-1)\n",
    "\n",
    "print(miss)\n",
    "\n",
    "## And sure enough that is missing"
   ]
  },
  {
   "cell_type": "markdown",
   "metadata": {
    "deletable": true,
    "editable": true
   },
   "source": [
    "And we supply that."
   ]
  },
  {
   "cell_type": "code",
   "execution_count": 10,
   "metadata": {
    "collapsed": false,
    "deletable": true,
    "editable": true
   },
   "outputs": [],
   "source": [
    "number.insert(miss, '955')\n",
    "sahasranams.insert(miss, 'Satpatachara')\n",
    "commentary.insert(miss, \"955 Satpatachar - Walking in the path of righteousness. He follows the path which good men \\\n",
    "                  have chalked out (in his incarnations)\")"
   ]
  },
  {
   "cell_type": "code",
   "execution_count": 11,
   "metadata": {
    "collapsed": true,
    "deletable": true,
    "editable": true
   },
   "outputs": [],
   "source": [
    "def get_commentary(n):\n",
    "    k = re.sub(number_pat, \"\", sahasranams[n])\n",
    "    c = re.sub(number_pat, \"\", commentary[n])\n",
    "    c = c[len(k):].strip()\n",
    "    c = c.strip()\n",
    "    if (c.find('-') == 0):\n",
    "        c = c[1:]\n",
    "    k = k.strip()\n",
    "    return(k, c)"
   ]
  },
  {
   "cell_type": "code",
   "execution_count": 12,
   "metadata": {
    "collapsed": false,
    "deletable": true,
    "editable": true
   },
   "outputs": [],
   "source": [
    "def print_one_full_line(n):\n",
    "    print(get_commentary(n))"
   ]
  },
  {
   "cell_type": "code",
   "execution_count": 13,
   "metadata": {
    "collapsed": false,
    "deletable": true,
    "editable": true
   },
   "outputs": [
    {
     "data": {
      "text/plain": [
       "'11'"
      ]
     },
     "execution_count": 13,
     "metadata": {},
     "output_type": "execute_result"
    }
   ],
   "source": [
    "number[10]"
   ]
  },
  {
   "cell_type": "code",
   "execution_count": 14,
   "metadata": {
    "collapsed": false,
    "deletable": true,
    "editable": true
   },
   "outputs": [
    {
     "name": "stdout",
     "output_type": "stream",
     "text": [
      "('Sookshmah', 'One\\nwho is subtler than the subtlest. In Vedanta terminology subtlety indicates\\npervasiveness. Therefore, the term means All-Pervasive. The Upanishad says the\\nLord is All-Pervading, subtler than the subtlest (Sarvagatam susookshmam).')\n"
     ]
    }
   ],
   "source": [
    "print_one_full_line(456)"
   ]
  },
  {
   "cell_type": "markdown",
   "metadata": {
    "collapsed": true,
    "deletable": true,
    "editable": true
   },
   "source": [
    "We print in shloka by shloka. We get the shloka information from vishnu-krishnanda information"
   ]
  },
  {
   "cell_type": "code",
   "execution_count": 15,
   "metadata": {
    "collapsed": false,
    "deletable": true,
    "editable": true
   },
   "outputs": [],
   "source": [
    "fn = open(\"shloka-number.txt\", \"r\", encoding=\"utf-8\")\n",
    "number = []\n",
    "\n",
    "for line in fn:\n",
    "    s, n = line.split()\n",
    "    number.append(int(n))\n",
    "number.append(1001)"
   ]
  },
  {
   "cell_type": "code",
   "execution_count": 16,
   "metadata": {
    "collapsed": false,
    "deletable": true,
    "editable": true
   },
   "outputs": [
    {
     "name": "stdout",
     "output_type": "stream",
     "text": [
      "[1, 10, 18, 25, 37, 46, 55, 64, 74, 85, 95, 104, 114, 123, 133, 141, 151, 163, 173, 181, 189, 198, 209, 218, 228, 236, 247, 256, 265, 275, 283, 290, 300, 308, 318, 327, 336, 346, 355, 363, 373, 384, 394, 405, 416, 426, 435, 445, 455, 465, 475, 486, 494, 503, 513, 521, 531, 538, 547, 558, 567, 574, 586, 596, 605, 615, 624, 633, 642, 651, 661, 671, 679, 690, 699, 708, 717, 725, 737, 747, 757, 765, 773, 782, 790, 800, 807, 817, 826, 835, 847, 857, 867, 876, 886, 896, 906, 915, 923, 932, 941, 950, 959, 967, 976, 985, 993, 1001]\n"
     ]
    }
   ],
   "source": [
    "print(number)"
   ]
  },
  {
   "cell_type": "code",
   "execution_count": 17,
   "metadata": {
    "collapsed": false,
    "deletable": true,
    "editable": true
   },
   "outputs": [],
   "source": [
    "def process_names_to_shlokas(k, f):\n",
    "    f.write(u\"<sloka id = '%d'>\\n\"%(k+1))\n",
    "    f.write(u'<ol start = %s>\\n' % (number[k]))\n",
    "    for i in range(number[k], number[k + 1]):\n",
    "        x, y = get_commentary(i - 1)\n",
    "        f.write(u\"<li>%s: %s</li>\\n\"%(x, textwrap.fill(y)))\n",
    "    f.write(u'</ol>\\n')\n",
    "    f.write(u'</sloka>\\n')\n",
    "\n",
    "\n",
    "f = open('vishnu-shivakumar-shankara.xml', 'w', encoding='utf-8')\n",
    "for i in range(len(number) - 1):\n",
    "    process_names_to_shlokas(i, f)\n",
    "f.close()    "
   ]
  },
  {
   "cell_type": "code",
   "execution_count": 18,
   "metadata": {
    "collapsed": false,
    "deletable": true,
    "editable": true
   },
   "outputs": [
    {
     "data": {
      "text/plain": [
       "1000"
      ]
     },
     "execution_count": 18,
     "metadata": {},
     "output_type": "execute_result"
    }
   ],
   "source": [
    "len(sahasranams)"
   ]
  },
  {
   "cell_type": "code",
   "execution_count": 19,
   "metadata": {
    "collapsed": false,
    "deletable": true,
    "editable": true
   },
   "outputs": [
    {
     "data": {
      "text/plain": [
       "'999. Akshobhyah'"
      ]
     },
     "execution_count": 19,
     "metadata": {},
     "output_type": "execute_result"
    }
   ],
   "source": [
    "sahasranams[998]"
   ]
  },
  {
   "cell_type": "code",
   "execution_count": 20,
   "metadata": {
    "collapsed": false,
    "deletable": true,
    "editable": true
   },
   "outputs": [
    {
     "data": {
      "text/plain": [
       "560"
      ]
     },
     "execution_count": 20,
     "metadata": {},
     "output_type": "execute_result"
    }
   ],
   "source": [
    "namas.index('Vanamaalee')"
   ]
  },
  {
   "cell_type": "code",
   "execution_count": 21,
   "metadata": {
    "collapsed": false,
    "deletable": true,
    "editable": true
   },
   "outputs": [
    {
     "name": "stdout",
     "output_type": "stream",
     "text": [
      "['Visvam', 'Vishnuh', 'Vashatkaarah', 'Bhoota-bhavya-bhavat-prabhuh', 'Bhoota-krit', 'Bhoota-bhrit', 'Bhaavah', 'Bhootaatmaa', 'Bhoota-bhaavanah', 'Poota-atmaa', 'Parama-atmaa', 'Muktaanaam paramaa gatih', 'Avyaah', 'Purushah', 'Saakshee', 'Kshetrajnah', 'Aksharah', 'Yogah', 'Yoga-vidaam netaa', 'Pradhaana-purusha-eesvarah', 'Naarasimha-vapuh', 'Sreemaan', 'Keshavah', 'Purushottamah', 'Sarvah', 'Sharvah', 'Sivah', 'Sthaanuh', 'Bhootaadih', 'Avyayah Nidhih', 'Sambhavah', 'Bhaavanah', 'Bhartaa', 'Prabhavah', 'Prabhuh', 'Eesvarah', 'Svayambhooh', 'Shambhuh', 'Aadityah', 'Pushkaraakshah', 'Mahaasvanah', 'Anaadi-nidhanah', 'Dhaataa', 'Vidhaataa', 'Dhaatur-uttamah', 'Aprameyah', 'Hrisheekesah', 'Padmanaabhah', 'Amaraprabhuh', 'Visvakarmaa', 'Manuh', 'Tvashtaa', 'Sthavishthah', 'Sthaviro Dhruvah', 'Agraahyah', 'Saasvatah', 'Krishnah -', 'Lohitaakshah', 'Pra-tarda-nah', 'Prabhootah', 'Tri-kakub-dhaama', 'Pavitram –', 'Param Mangalam', 'Eesaanah', 'Praanadah', 'Praanah', 'Jyeshthah', 'Sreshthah', 'Prajaapatih', 'Hiranyagarbhah', 'Bhoogarbhah', 'Maadhavah', 'Madhusoodanah', 'Eesvarah', 'Vikramee', 'Dhanvee', 'Medhaavee', 'Vikramah', 'Kramah', 'Anuttamah', 'Duraadharshah', 'Kritajnah', 'Kritih', 'Aatmavaan', 'Suresah', 'Saranam', 'Sarma', 'Visvaretaah', 'Prajaabhavah', 'Ahah', 'Samvatsarah', 'Vyaalah', 'Pratyayah', 'Sarvadarsanah', 'Ajah', 'Sarvesvarah', 'Siddhah', 'Siddhih', 'Sarvaadih', 'Achyutah', 'Vrishaakapih', 'Ameyaatmaa', 'Sarva-yoga-vinissritah', 'Vasuh', 'Vasumanaah', 'Satyah', 'Samaatmaa', 'Sammitah', 'Samah', 'Amoghah', 'Pundareekaakshah', 'Vrishakarmaa', 'Vrishaakritih', 'Rudrah', 'Bahusiraah', 'Babhruh', 'Visvayonih', 'Suchisravaah', 'Amritah', 'Saasvata-sthaanuh', 'Vararohah', 'Mahaatapaah -', 'Sarvagah –', 'Sarvavid-bhaanuh', 'Vishvaksenah', 'Janaardanah -', 'Vedah', 'Vedavit', 'Avyangah', 'Vedaangah', 'Vedavit', 'Kavih', 'Lokaadhyakshah', 'Suraadhyakshah -', 'Dharmaadhyakshah', 'Kritaakritah', 'Chaturaatmaa', 'Chaturvyoohah', 'Chatur-Damshtrah', 'Chaturbhujah –', 'Bhraajishnuh', 'Bhojanam', 'Bhoktaa -', 'Sahishnuh', 'Jagadaadijah', 'Anaghah', 'Vijayah', 'Jetaa', 'Visvayonih', 'Punarvasuh', 'Upendrah', 'Vaamanah', 'Praamsuh', 'Amoghah', 'Suchih', 'Oorjitah', 'Ateendrah', 'Samgrahah', 'Sargah', 'Dhritaatmaa', 'Niyamah', 'Yamah', 'Vedyah', 'Vaidyah', 'Sadaa Yogee', 'Veerahaa', 'Maadhavah', 'Madhuh', 'Ateendriyah', 'Mahaamaayah', 'Mahotsaahah', 'Mahaabalah', 'Mahaabuddhih', 'Mahaaveeryah', 'Mahaasaktih', 'Mahaadyutih', 'Anirdesyavapuh', 'Sreemaan', 'Ameyaatmaa', 'Mahaadridhrik', 'Maheshvaasah', 'Maheebhartaa -', 'Sreenivaasah', 'Sataam Gatih', 'Aniruddhah -', 'Suraanandah', 'Govindah', 'Govidaam Patih', 'Mareechih', 'Damanah', 'Hamsah', 'Suparnah', 'Bhujagottamah', 'Hiranyanaabhah', 'Sutapaah', 'Padmanaabhah', 'Prajaapatih', 'Amrityuh', 'Sarvadrik', 'Simhah', 'Sandhaataa', 'Sandhimaan', 'Sthirah', 'Ajah', 'Durmarshanah', 'Saastaa', 'Visrutaatmaa', 'Suraarihaa', 'Guruh', 'Gurutamah', 'Dhaama -', 'Satyah', 'Satyaparaakramah', 'Nimishah', 'Animishah', 'Sragvee', 'Vaachaspatir-Udaaradheeh', 'Agraneeh', 'Graamaneeh', 'Sreemaan -', 'Nyaayah', 'Netaa', 'Sameeranah', 'Sahasria-Moordhaa', 'Visvaatmaa', 'Sahasraakshah', 'Sahasrapaat', 'Aavartanah', 'Nivrittaatmaa', 'Samvritah', 'Sampramardanah', 'Ahassamvartakah', 'Vahnih', 'Anilah', 'Dharaneedharah', 'Suprasaadah', 'Prasannaatmaa', 'Visvadhrik', 'Visvabhuk', 'Vibhuh', 'Satkartaa', 'Satkritah', 'Saadhuh', 'Jahnuh', 'Naaraayanah', 'Narah', 'Asankhyeyah', 'Aprameya-Atmaa', 'Visishtah', 'Sishtakrit', 'Suchih', 'Siddhaarthah', 'Siddhasankalpah', 'Siddhiddah', 'Siddhi-Saadhanah', 'Vrishaahee', 'Vrishabhah', 'Vishnuh', 'Vrishaparvaa', 'Vrishodarah', 'Vardhanah', 'Vardhamaanah', 'Viviktah', 'Srutisaagarah', 'Subhujah', 'Durdharah', 'Vaagmee', 'Mahendrah', 'Vasudah', 'Vasuh', 'Naikaroopah', 'Brihadroopah', 'Sipivishtah', 'Prakaasanah', 'Ojas-tejo-dyutidharah', 'Prakaasaatmaa', 'Prataapanah', 'Riddhah', 'Spashta-aksharah', 'Mantrah', 'Chandraamsuh', 'Bhaaskaradyutih', 'Amritaamsoodbhavah', 'Bhaanuh', 'Sasabinduh', 'Suresvarah', 'Aushadham', 'Jagatassetuh', 'Satyadharmaparaakramah', 'Bhoota-Bhavya-Bhavan-Naathah', 'Pavanah', 'Paavanah', 'Analah', 'Kaamahaa', 'Kaama-krit', 'Kaantah', 'Kaamah', 'Kaamapradah', 'Prabhuh', 'Yugaadi-krit', 'Yugaavartah', 'Naikamaayah', 'Mahaasanah -', 'Adrisyah', 'Vyakta-roopah', 'Sahasra-jit', 'Ananta-jit', 'lshtah', 'Visishtah', 'Sishta-ishtah', 'Sikhandee -', 'Nahushah', 'Vrishah', 'Krodhahaa', 'Krodha-krit-kartaa', 'Visvabaahuh', 'Maheedharah', 'Achyutah', 'Prathitah', 'Praanah', 'Praanadah', 'Vaasavaanujah', 'Apaam-nidhih', 'Adhishthaanam', 'Apramattah', 'Pratishthitah', 'Skandah', 'Skanda-dharah', 'Dhuryah', 'Varadah', 'Vaayuvaahanah', 'Vaasudevah', 'Brihat-bhaanuh', 'Aadidevah', 'Purandarah', 'Asokah', 'Taaranah', 'Taarah', 'Soorah', 'Saurih', 'Janesvarah -', 'Anukoolah', 'Sataavarttah', 'Padmee', 'Padma-nibhekshanah', 'Padmanaabhah', 'Aravindaakshah', 'Padmagarbhah', 'Sareerabhrit', 'Maharddhih', 'Riddhah', 'Vriddhaatmaa', 'Mahaakshah', 'Garuda-dhvajah', 'Atulah', 'Sarabhah', 'Bheemah', 'Samayajnah', 'Havir-harih', 'Sarva-lakshana-lakshanyah', 'Lakshmeevan –', 'Samitinjayah', 'Viksharah -', 'Rohitah', 'Maargah', 'Hetuh', 'Daamodarah', 'Sahah –', 'Maheedharah', 'Mahaa-bhaagah', 'Vegavaan', 'Amitaasanah', 'Udbhavah', 'Kshobhanah –', 'Devah', 'Sree-garbhah -', 'Paramesvarah', 'Karanam', 'Kaaranam', 'Kartaa', 'Vi-kartaa', 'Gahanah', 'Guhah', 'Vyavasaayah', 'Vyavasthaanah', 'Samsthaanah', 'Sthaanadah', 'Dhruvah', 'Pararddhih', 'Parama-spashtah', 'Tushtah', 'Pushtah', 'Subh-ekshanah', 'Raamah', 'Vi-raamah', 'Virajah', 'Maargah', 'Neyah', 'Nayah', 'A-nayah', 'Veerah', 'Saktimataam-sreshthah', 'Dharmah', 'Dharma-vid-uttamah', 'Vaikunthah', 'Purushah', 'Paanah', 'Praanadah', 'Pranavah', 'Prithuh', 'Hiranyagarbhah', 'Satru-ghnah', 'Vyaaptah', 'Vaayuh', 'Adhokshajah', 'Rituh', 'Sudarsanah', 'Kaalah', 'Parameshthee', 'Parigrahah –', 'Ugrah', 'Samvatsarah', 'Dakshah', 'Visraamah', 'Visva-dakshinah', 'Vistaarah', 'Sthaavarah-sthaanuh', 'Pramaanam', 'Beejamavyayam', 'Arthah', 'Anarthah', 'Mahaakosah -', 'Mahaabhogah', 'Mahaadhanah', 'Anirvinnah', 'Sthavishthah –', 'A-bhooh', 'Dharma-yoopah', 'Mahaa-makhah', 'Nakshatranemih', 'Nakshatree', 'Kshamah', 'Kshaamah', 'Sameehanah', 'Yajnah', 'Ijyah', 'Mahejyah', 'Kratuh', 'Satram', 'Sataam gatih', 'Sarvadarshee', 'Vimuktaatmaa', 'Sarvajnah', 'Jnaanamuttamam', 'Suvratah', 'Sumukhah', 'Sookshmah', 'Sughoshah', 'Sukhadah', 'Suhrit', 'Manoharah', 'Jita-krodhah', 'Veerabaahuh', 'Vidaaranah', 'Svaapanah', 'Svavasah', 'Vyaapee', 'Naikaatmaa', 'Naika-karma-krit', 'Vatsarah', 'Vatsalah', 'Vatsee', 'Ratnagarbhah', 'Dhanesvarah', 'Dharmagup', 'Dharma-krit', 'Dharmee', 'Sat', 'A-Sat', 'Ksharam', 'A-ksharam -', 'Avijnaataa', 'Sahasra-amsuh', 'Vidhaataa', 'Krita-lakshanah', 'Gabhastinemih', 'Sattvasthah', 'Simhah', 'Bhoota-Mahevarah', 'Aadidevah', 'Mahaadevah', 'Devesah', 'Deva-bhrid-guruh', 'Uttarah', 'Gopatih', 'Goptaa', 'Jnaanagamyah', 'Puraatanah', 'Sareera-bhoota-bhrit', 'Bhoktaa', 'Kapeendrah', 'Bhoori-dakshinah', 'Somapah', 'Amritapah', 'Somah', 'Purujit', 'Puru-sattamah', 'Vinayah', 'Jayah', 'Satya-sandhah -', 'Daasaarhah', 'Saatvataam-patih', 'Jeevah', 'Vinayitaa-saakshee', 'Mukundah', 'Amita-vikramah', 'Ambho-nidhih', 'Ananta-atmaa', 'Mahodadhisayah', 'Antakah', 'Ajah', ', Mahaarhah', 'Svaabhaavyah', 'Jitaamitrah', 'Pramodanah', 'Aanandah', 'Nandanah', 'Nandah', 'Satyadharmaa', 'Trivikramah', 'Maharshih Kapilaachaaryah', 'Kritajnah', 'Medineepatih', 'Tripadah', 'Tridasaadhyakshah', 'Mahaasringah', 'Kritaantakrit', 'Mahaa-Varaahah', 'Govindah', 'Sushenah', 'Kanakaangadee', 'Guhyah', 'Gabheerah', 'Gahanah', 'Guptah', 'Chakra-gadaa-dharah', 'Vedhaah', 'Svaangah', 'A -Jitah', 'Krishnah', 'Dridhah', 'Sankarshano-achyutah', 'Varunah', 'Vaarunah', 'Vrikshah', 'Pushkaraakshah', 'Mahaamanaah', 'Bhagavaan', 'Bhagahaa', 'Aanandee', 'Vanamaalee', 'Halayudhah', 'Aadityah', 'Jyotir-aadityah', 'Sahishnuh', 'Gatisattamah', 'Sudhanvaa', 'Khanda-parasuh', 'Daarunah', 'Dravina-pradah', 'Divah-sprik', 'Sarva-drik-vyaasah:', 'Vaachaspatir-ayonijah', 'Trisaamaa', 'Saamagah', 'Saama', 'Nirvaanam', 'Bheshajam', 'Bhishak', 'Samnyaasa-krit', 'Samah', 'Saantah', 'Nishthaa', 'Saantih', 'Paraayanam', 'Subhaangah', 'Saantidah', 'Srashtaa', 'Kumudah', 'Kuvalesayah', 'Go-hitah', 'Go-patih', 'Goptaa', 'Vrishabhaakshah -', 'Vrisha-priyah:', 'Anivartee', 'Nivritta-atmaa', 'Samksheptaa', 'Kshema-krit', 'Sivah', 'Sreevatsa-vakshaah', 'Sree-vaasah', 'Sree-patih', 'Sreemataam-varah:', 'Sree-dah', 'Sreesah', 'Sree-nivaasah', 'Sree-nidhih', 'Sree-bibhaavanah', 'Sree-dharah', 'Sree-karah', 'Sreyah', 'Sreemaan', 'Lokatraya-asrayah', 'Svakshah', 'Svangah', 'Sataanandah', 'Nandih', 'Jyotir-ganesvarah', 'Vijitaatmaa', 'Vidheyaatmaa', 'Sat-keertih', 'Chhinnasamsayah', 'Udeernah', 'Sarvatah-chakshuh', 'Aneesah', 'Saasvata-sthirah', 'Bhoosayah', 'Bhooshanah', 'Bhootih', 'Visokah', 'Soka-naasanah', 'Archishmaan', 'Architah', 'Kumbhah', 'Visuddha-atmaa', 'Visodhanah', 'Aniruddhah -', 'Apratirathah', 'Pradyumnah', 'Amita-vikramah', 'Kaalaneminihaa', 'Veerah', 'Saurih', 'Soorajanesvarah', 'Triloka-atmaa', 'Triloka-eesah', 'Kesavah', 'Kesihaa', 'Harih', 'Kaamadevah', 'Kaamapaalah', 'Kaamee', 'Kaantah', 'Kritaagamah', 'Anirdesya-vapuh', 'Vishuh', 'Veerah', 'Anantah', 'Dhananjayah', 'Brahmanyah', 'Brahma-krit', 'Brahmaa', 'Brahma', 'Brahma-vivardhanah', 'Brahma-vit', 'Braahmanah', 'Brahmee', 'Brahma-jnah -', 'Braahmana-priyah', ', Mahaakramah', 'Mahaakarmaa', 'Mahaatejaah', 'Mahoragah', 'Mahaakratuh', 'Mahaayajvaa', 'Mahaayajnah', 'Mahaa-havih', 'Stavyah', 'Stava-priyah', 'Stotram', 'Stutih', 'stotaa', 'Rana-priyah', 'Poornah', 'Poorayitaa', 'Punyah', 'Punya-keertih', 'Anaamayah', 'Manojavah', 'Teerthakarah', 'Vasuretaah', 'Vasupradah', 'Vasupradah', 'Vaasudevah', 'Vasuh', 'Vasumanaah', 'Havih', 'Sadgatih', 'Sat-kritih', 'Sattaa', 'Sad-bhootih', 'Sat-paraayanah', 'Soora-senah', 'Yadusreshthah –', 'Sannivaasah', 'Suyaamunah', 'Bhootaavaasah', 'Vaasu-devah', 'Sarvaasu-nilayah', 'Analah', 'Darpahaa', 'Darpadah', 'Driptah', 'Durdharah', 'A-paraa-jitah', 'Visvamoortih', 'Mahaa-moortih', 'Deepta-moortih –', 'A-Moortimaan', 'Aneka-moortih', 'Avyaktah', 'Sata-moortih', ', Sataananah', 'Ekah', 'Naikah', 'Savah', 'Kah', 'Kim', 'Yat', 'Tat', 'Padam Anuttamam -', 'Loka-bandhuh', 'Loka-naathah', 'Maadhavah', 'Bhakta-vatsalah', 'Suvarna-varnah', 'Hemaangah', 'Varaangah', 'Chandanaangadee', 'Veerahaa', 'Vishamah', 'Soonyah', 'Ghritaaseeh', 'Achalah', 'Chalah', 'Amaanee', 'Maanadah', 'Maanyah', 'Lokasvaamee', 'Thriloka-dhrik', 'Sumedhaah', 'Medha-jah', 'Dhanyah', 'Satyamedhah', 'Dharaadharah', 'Tejo-vrishah', 'Dyutidharah', 'Sarva-sastra-bhritaam-varah', 'Pragrahah', 'Nigrahah', 'Vyagrah', 'Naika-sringah', 'Gadaagrajah', 'Chatur-moortih', 'Chatur-baahuh', 'Chatur-vyoohah', 'Chatur-gatih', 'Chatur-aatmaa', 'Chatur-bhaavah', 'Chatur-veda-vit', 'Eka-paat', 'Samaavartah', 'Nivrittaatmaa', 'Dur-jayah', 'Durati-kramah', 'Dur-Labhah', 'Dur-Gamah', 'Dur-Gah', 'Punyah', 'Punya-keertih', 'Anaamayah', 'Manojavah', 'Teerthakarah', 'Vasuretaah', 'Vasupradah', 'Vasupradah', 'Vaasudevah', 'Vasuh', 'Vasumanaah', 'Havih', 'Sadgatih', 'Sat-kritih', 'Sattaa', 'Sad-bhootih', 'Sat-paraayanah', 'Soora-senah', 'Yadusreshthah –', 'Sannivaasah', 'Suyaamunah', 'Bhootaavaasah', 'Vaasu-devah', 'Sarvaasu-nilayah', 'Dur-aavaasah', 'Duraarihaa', 'Subhaangah', 'Lokasaarangah', 'Sutantuh', 'Tantu-vardhanah', 'Indrakarmaa', 'Mahaa-karmaa', 'Krita-karmaa', 'Kritaagamah', 'Udbhavah', 'Sundarah', 'Sundah', 'Ratnanaabhah', 'Sulochunuh', 'Arkah', 'vaajasanah', 'Sringee', 'Jayantah', 'Sarvavij-jayee', 'Suvarna-binduh', 'Akshobhyah –', 'Sarva-vaageesvaresvarah', 'Mahaa-hradah', 'Mahaa-gartah', 'Mahaabhootah', 'Mahaa-nidhih', 'Kumudah', 'Kundarah', 'Kundah', 'Parjanyah', 'Paavanah', 'Anilah', 'Amritaasah', 'Amrita-vapuh', 'Sarvajnah', 'Sarvato-mukhah', 'Sulabhah', 'Suvratah', 'Siddhah', 'Satrujit', 'Satrutaapanah', 'Nyagrodhah', 'Udumbarah', 'Asvatthah', 'Chaanooraandhranishoodanah', 'Sahasra-archih', 'Sapta-jihvah', 'Sapta-edhaah', 'Sapta-vaahanah', 'A-moortih', 'Anaghah', 'Achintyah', 'Bhaya-krit', 'Bhayanaasanah', 'Anuh', 'Brihat', 'Krisah', 'Sthoolah', 'Gunabhrit –', 'Nirgunah', 'Mahaan', 'Adhritah', 'Svadhritah', 'Svaasyah', 'Praag-vamsah', 'Vamsa-vardhanah', 'Bhaara-bhrit', 'Kathitah', 'Yogee', 'Yogeesah', 'Sarvakaamadah', 'Aasramah', 'Sramanah', 'Kshaamah', 'Suparnah', 'Vaayu-vaahanah', 'Dhanurdharah', 'Dhanurvedah', 'Dandah', 'Damayitaa', 'Damah', 'Aparaajitah', 'Sarvasahah', 'Aniyantaa', 'Aniyamah', 'Ayamah', 'Sattvavaan', 'Saattvikah', 'Satyah', 'Satya-dharma-paraayanah', 'Abhipraayah', 'Priyaarhah', 'Arhah', 'Priya-krit', 'Preeti-vardhanah -', 'Vihaayasa-gatih', 'Jyotih', 'Su-ruchih', 'Huta-bhuk –', 'Vibhuh', 'Ravih', 'Virochanah', 'Sooryah', 'Savitaa –', 'Ravi-lochanah', 'Anantah', 'Huta-bhuk', 'Bhoktaa', 'Sukha-dah', 'Naikajah', 'Agra-jah', 'Anirvinnah', 'Sadaa-marshee', 'Loka-adhishthaanam', 'Adbhutah', 'Sanaat', 'Sanaatanatamah', 'Kapilah', 'Kapih', 'Apyayah', 'Svasti-dah', 'Svasti-krit', 'Svasti', 'Svasti-bhuk', 'Svasti-dakshinah', 'Araudrah', 'Kundalee', 'Chakree', 'Vikramee', 'Oorjita-saasanah', 'Sabdaatigah', 'Sabda-sahah', 'Sisirah', 'Sarvaree-karah', 'Akroorah', 'Pesalah', 'Dakshah', 'Dakshinah', 'Kshaminaam-varah', 'Vidvat-tamah', 'Veeta-bhayah', 'Punya-sravana-keertianah', 'Uttaaranah', 'Dushkritihaa', 'Punyah', 'Duh-svapna-naasanah', 'Veerahaa', 'Rakshanah', 'Santah', 'Jeevanah', 'Paryavasthitah', 'Ananta-roopa', 'Anantasreeh', 'Jitamanyuh', 'Bhayapahah', 'Chaturasrah', 'Gabheeraatmaa', 'Vidisah', 'Vyaadisah', 'Disah', 'Anaadih', 'Bhoorbhuvah', 'Lakshmeeh', 'Suveerah', 'Ruchiraangadah', 'Jananah', 'Janajanmaadih', 'Bheemah', 'Bheemaparaakramah', 'Aadhaaranilayah', 'Adhaataa', 'Pushpahaasah', 'Prajaagarah', 'Oordhvagah', 'Praanadah', 'Pranavah', 'Panah', 'Pramaanam', 'Praananilayah', 'Praana-brit', 'Praana-jeevanah', 'Tattvam', 'Tattvavit', 'Ekaatmaa –', 'Janma-mrityu-jaraa-atigah', '', 'Tarrah', '', 'Pra-pitaamahah', 'Yajnah', 'Yajna-patih', 'Yajvaa', 'Yajnaangah', 'Yajna-vaahanah', 'Yajna-bhrit –', 'Yajna-Krit', 'Yajnee', 'Yajnee –', 'Yajna-saadhanah', 'Yajnaantakrit', '', 'Annam', 'Annaadah', 'Aatma-yohin', 'Svayam-jaatah', 'Vai-Khaanah', 'saama-gaayanah', 'Devakeenandhanah', 'Srashtaa', 'Kshiteesah', 'Paapa-naasanah –', 'Samkha-bhrit', 'Nandakee', 'Chakree', 'Saarnga-dhanvaa', 'Gadda-dharah', 'Rathanga-paanih', 'Akshobhyah', 'Sarva-praharanaayudhah']\n"
     ]
    }
   ],
   "source": [
    "print(namas)"
   ]
  },
  {
   "cell_type": "code",
   "execution_count": null,
   "metadata": {
    "collapsed": true,
    "deletable": true,
    "editable": true
   },
   "outputs": [],
   "source": []
  },
  {
   "cell_type": "code",
   "execution_count": null,
   "metadata": {
    "collapsed": true,
    "deletable": true,
    "editable": true
   },
   "outputs": [],
   "source": []
  }
 ],
 "metadata": {
  "anaconda-cloud": {},
  "kernelspec": {
   "display_name": "Python 3",
   "language": "python",
   "name": "python3"
  },
  "language_info": {
   "codemirror_mode": {
    "name": "ipython",
    "version": 3
   },
   "file_extension": ".py",
   "mimetype": "text/x-python",
   "name": "python",
   "nbconvert_exporter": "python",
   "pygments_lexer": "ipython3",
   "version": "3.5.2"
  }
 },
 "nbformat": 4,
 "nbformat_minor": 1
}
