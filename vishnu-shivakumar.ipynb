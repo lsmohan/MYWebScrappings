{
 "cells": [
  {
   "cell_type": "markdown",
   "metadata": {},
   "source": [
    "# Vishnu Sahasranamam: shivkumar.org\n",
    "\n",
    "Attempt to create individual meanings of the 1000 names of Vishnu from http://www.shivkumar.org/music/vishnu-sahasranamam-meanings.htm.\n"
   ]
  },
  {
   "cell_type": "code",
   "execution_count": 1,
   "metadata": {
    "collapsed": true
   },
   "outputs": [],
   "source": [
    "from bs4 import BeautifulSoup, Comment\n",
    "import textwrap, re\n",
    "\n",
    "# Very useful function\n",
    "\n",
    "def remove_attrs(soup, whitelist=tuple()):\n",
    "    for tag in soup.findAll(True):\n",
    "        for attr in [attr for attr in tag.attrs if attr not in whitelist]:\n",
    "            del tag[attr]\n",
    "    return soup"
   ]
  },
  {
   "cell_type": "code",
   "execution_count": 2,
   "metadata": {
    "collapsed": false
   },
   "outputs": [],
   "source": [
    "html = open(r\"Vishnu Sahasranamam-shivkumar.org.html\", \"r\").read()"
   ]
  },
  {
   "cell_type": "code",
   "execution_count": 3,
   "metadata": {
    "collapsed": true
   },
   "outputs": [],
   "source": [
    "soup = BeautifulSoup(html, \"lxml\")"
   ]
  },
  {
   "cell_type": "code",
   "execution_count": 4,
   "metadata": {
    "collapsed": false
   },
   "outputs": [],
   "source": [
    "comments = soup.findAll(text=lambda text:isinstance(text, Comment))\n",
    "c = [comment.extract() for comment in comments]\n"
   ]
  },
  {
   "cell_type": "code",
   "execution_count": 6,
   "metadata": {
    "collapsed": false
   },
   "outputs": [],
   "source": [
    "def process_span(p):\n",
    "    s = remove_attrs(p)\n",
    "    if p.get('style') == r'text-align:center':\n",
    "        s['class'] = 'Shloka'\n",
    "    return s\n",
    "\n",
    "number_pat = re.compile(r'^[ ]?\\(?(\\d+)[\\)\\.]?')\n",
    "fnumber_pat = re.compile(r'^([ ]?\\(?\\d+[\\)\\.]?)')\n",
    "sahasranams = []\n",
    "number = []\n",
    "NEW_PATTERN = 'NeWWeN'\n",
    "\n",
    "def process_soup(soup):\n",
    "    # Get all the paragraphs until we come to the first namam.\n",
    "    print_all = 0\n",
    "    st = \"\"\n",
    "    para = soup.findAll('p')\n",
    "    f = open('vishnu-shivkumar.txt', 'w',encoding='utf-8')\n",
    "    for i, p in enumerate(para):\n",
    "        ## The start of the commentary\n",
    "        if p.span.text == r'(1) Visvam':\n",
    "            print_all = 1\n",
    "        if print_all:\n",
    "            s = process_span(p)\n",
    "            ## Can we catch the start of a name and commentary from others.\n",
    "            if (s.b != None):\n",
    "                my_str = textwrap.fill(s.b.text).replace(u'\\xa0', ' ')\n",
    "            elif (p.strong != None):\n",
    "                my_str = textwrap.fill(s.text).replace(u'\\xa0', ' ')\n",
    "            else:\n",
    "                my_str = \"\"\n",
    "            m = number_pat.search(my_str)\n",
    "            if m:\n",
    "                if my_str:\n",
    "                    sahasranams.append(my_str)\n",
    "                    number.append(m.group(1))\n",
    "                    f.write(NEW_PATTERN)\n",
    "                    st += NEW_PATTERN\n",
    "            ## This is the end of the commentary\n",
    "            if s.text.startswith('Sree Sarva'):\n",
    "                print_all = 0\n",
    "            if s.get('class', None) == 'Shloka':\n",
    "                pass\n",
    "            elif s != \"\":\n",
    "                f.write(\"%s\"%s.text)\n",
    "                st += \"%s\"%s.text\n",
    "    return st\n"
   ]
  },
  {
   "cell_type": "code",
   "execution_count": 7,
   "metadata": {
    "collapsed": false,
    "scrolled": false
   },
   "outputs": [],
   "source": [
    "commentary_str = process_soup(soup)"
   ]
  },
  {
   "cell_type": "markdown",
   "metadata": {
    "collapsed": true
   },
   "source": [
    "## Corrections\n",
    "\n",
    "This document had some names (from position 780 to 804 seem to be repeated. We delete them."
   ]
  },
  {
   "cell_type": "code",
   "execution_count": 8,
   "metadata": {
    "collapsed": false
   },
   "outputs": [],
   "source": [
    "START_NO = 779\n",
    "END_NO = 803\n",
    "\n",
    "del number[START_NO:END_NO]\n",
    "del sahasranams[START_NO:END_NO]\n",
    "\n",
    "commentary = commentary_str.split('NeWWeN')\n",
    "del commentary[0]\n",
    "del commentary[START_NO:END_NO]"
   ]
  },
  {
   "cell_type": "code",
   "execution_count": 9,
   "metadata": {
    "collapsed": false
   },
   "outputs": [
    {
     "name": "stdout",
     "output_type": "stream",
     "text": [
      "954\n"
     ]
    }
   ],
   "source": [
    "## Even after this there are only 999 names. Checking what is missing\n",
    "\n",
    "che = [i + 1 - int(number[i]) for i in range(999)]\n",
    "miss = che.index(-1)\n",
    "\n",
    "print(miss)\n",
    "\n",
    "## And sure enough that is missing"
   ]
  },
  {
   "cell_type": "markdown",
   "metadata": {},
   "source": [
    "And we supply that."
   ]
  },
  {
   "cell_type": "code",
   "execution_count": 10,
   "metadata": {
    "collapsed": false
   },
   "outputs": [],
   "source": [
    "number.insert(miss, '955')\n",
    "sahasranams.insert(miss, 'Satpatachara')\n",
    "commentary.insert(miss, \"The commentary for Satpatachara\")"
   ]
  },
  {
   "cell_type": "code",
   "execution_count": 33,
   "metadata": {
    "collapsed": true
   },
   "outputs": [],
   "source": [
    "def get_commentary(n):\n",
    "    k = re.sub(fnumber_pat, \"\", sahasranams[n])\n",
    "    c = re.sub(fnumber_pat, \"\", commentary[n])\n",
    "    return(k, c)"
   ]
  },
  {
   "cell_type": "code",
   "execution_count": 34,
   "metadata": {
    "collapsed": false
   },
   "outputs": [],
   "source": [
    "def print_one_full_line(n):\n",
    "    print(get_commentary(n))"
   ]
  },
  {
   "cell_type": "code",
   "execution_count": 35,
   "metadata": {
    "collapsed": false
   },
   "outputs": [
    {
     "data": {
      "text/plain": [
       "'11'"
      ]
     },
     "execution_count": 35,
     "metadata": {},
     "output_type": "execute_result"
    }
   ],
   "source": [
    "number[10]"
   ]
  },
  {
   "cell_type": "code",
   "execution_count": 41,
   "metadata": {
    "collapsed": false
   },
   "outputs": [
    {
     "name": "stdout",
     "output_type": "stream",
     "text": [
      "(' Yajna-saadhanah', '\\nYajna-saadhanah\\n–“One who fulfills all Yajnas.” It is by his grace alone all noble endeavours,\\nundertaken in an honest and true sincerity, gain spectacular success.')\n"
     ]
    }
   ],
   "source": [
    "print_one_full_line(979)"
   ]
  },
  {
   "cell_type": "code",
   "execution_count": null,
   "metadata": {
    "collapsed": true
   },
   "outputs": [],
   "source": []
  }
 ],
 "metadata": {
  "anaconda-cloud": {},
  "kernelspec": {
   "display_name": "Python [conda root]",
   "language": "python",
   "name": "conda-root-py"
  },
  "language_info": {
   "codemirror_mode": {
    "name": "ipython",
    "version": 3
   },
   "file_extension": ".py",
   "mimetype": "text/x-python",
   "name": "python",
   "nbconvert_exporter": "python",
   "pygments_lexer": "ipython3",
   "version": "3.5.2"
  }
 },
 "nbformat": 4,
 "nbformat_minor": 1
}
