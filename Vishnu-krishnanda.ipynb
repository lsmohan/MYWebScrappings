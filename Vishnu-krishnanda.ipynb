{
 "cells": [
  {
   "cell_type": "markdown",
   "metadata": {},
   "source": [
    "# Vishnu Sahasranamam\n",
    "\n",
    "We intend to produce xml files for the vishnu sahasranamam app from the files of Swami Krishnananda."
   ]
  },
  {
   "cell_type": "code",
   "execution_count": 2,
   "metadata": {
    "collapsed": false
   },
   "outputs": [],
   "source": [
    "from bs4 import BeautifulSoup\n",
    "\n",
    "i = 1\n",
    "\n",
    "def process_verses(verses, j):\n",
    "    f = open(\"vishnu-krishnanda.xml\", \"a\", encoding=\"utf-8\")\n",
    "    fn = open(\"shloka-number.txt\", \"a\", encoding=\"utf-8\")\n",
    "    for i, v in enumerate(verses):\n",
    "        tw = \"%s %s\\n\" % (j + i + 1, v.get('start', 1)) \n",
    "        fn.write(tw)\n",
    "        del v['class']\n",
    "        shloka = \"\"\"\n",
    "<sloka id = \"%s\">\n",
    "%s\n",
    "</sloka>\n",
    "\"\"\" % (j + i + 1, str(v))\n",
    "        f.write(shloka)\n",
    "    f.close()\n",
    "    fn.close()\n",
    "    return (j + i + 1)\n",
    "\n",
    "k = 0\n",
    "\n",
    "for i in range(1, 6):\n",
    "    fi = \"vishnu-%s.html\" % i\n",
    "    html_txt = open(fi, \"r\", encoding=\"utf-8\").read()\n",
    "    soup_txt = BeautifulSoup(html_txt, \"lxml\")\n",
    "    verses = soup_txt.find_all('ol')\n",
    "    k = process_verses(verses, k)\n",
    "    "
   ]
  },
  {
   "cell_type": "code",
   "execution_count": null,
   "metadata": {
    "collapsed": true
   },
   "outputs": [],
   "source": []
  },
  {
   "cell_type": "code",
   "execution_count": null,
   "metadata": {
    "collapsed": false
   },
   "outputs": [],
   "source": []
  },
  {
   "cell_type": "code",
   "execution_count": null,
   "metadata": {
    "collapsed": false
   },
   "outputs": [],
   "source": []
  },
  {
   "cell_type": "code",
   "execution_count": null,
   "metadata": {
    "collapsed": true
   },
   "outputs": [],
   "source": []
  }
 ],
 "metadata": {
  "anaconda-cloud": {},
  "kernelspec": {
   "display_name": "Python [conda root]",
   "language": "python",
   "name": "conda-root-py"
  },
  "language_info": {
   "codemirror_mode": {
    "name": "ipython",
    "version": 3
   },
   "file_extension": ".py",
   "mimetype": "text/x-python",
   "name": "python",
   "nbconvert_exporter": "python",
   "pygments_lexer": "ipython3",
   "version": "3.5.2"
  }
 },
 "nbformat": 4,
 "nbformat_minor": 1
}
